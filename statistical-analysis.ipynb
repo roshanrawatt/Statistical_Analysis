{
 "cells": [
  {
   "cell_type": "markdown",
   "id": "0b4c2987",
   "metadata": {
    "papermill": {
     "duration": 0.011983,
     "end_time": "2023-01-11T15:43:41.731863",
     "exception": false,
     "start_time": "2023-01-11T15:43:41.719880",
     "status": "completed"
    },
    "tags": []
   },
   "source": [
    "\n",
    "# Problem Statement:\n",
    "Online news portal, RR News Express, is looking to expand its subscribers. To this end, they are introducing a new feature to the portal -**a new landing page**. The company wishes to know if this new landing page is more effective at attracting new subscribers. An A/B test has been carried out on 100 users. The users were divided equally into a control group, which viewed the old landing page, and an experimental group, which viewed the new landing page. The results are organized into a dataset with the following variables:\n",
    "\n",
    "\n",
    "1. user_id - Unique ID for each user\n",
    "2. group - Which experimental group the user is in\n",
    "3. landing_page - Which landing page user views\n",
    "4. time_spent_on_the_page - time (minutes) user viewed landing page\n",
    "5. converted - whether user becomes a subscriber or not\n",
    "6. language_preferred - language landing page was view in"
   ]
  },
  {
   "cell_type": "code",
   "execution_count": 1,
   "id": "2b9c55d9",
   "metadata": {
    "_cell_guid": "b1076dfc-b9ad-4769-8c92-a6c4dae69d19",
    "_uuid": "8f2839f25d086af736a60e9eeb907d3b93b6e0e5",
    "execution": {
     "iopub.execute_input": "2023-01-11T15:43:41.757277Z",
     "iopub.status.busy": "2023-01-11T15:43:41.756574Z",
     "iopub.status.idle": "2023-01-11T15:43:42.868042Z",
     "shell.execute_reply": "2023-01-11T15:43:42.867053Z"
    },
    "papermill": {
     "duration": 1.128431,
     "end_time": "2023-01-11T15:43:42.871005",
     "exception": false,
     "start_time": "2023-01-11T15:43:41.742574",
     "status": "completed"
    },
    "tags": []
   },
   "outputs": [],
   "source": [
    "import pandas as pd\n",
    "import numpy as np\n",
    "import seaborn as sns\n",
    "import matplotlib.pyplot as plt\n",
    "%matplotlib inline\n",
    "import scipy.stats as stats"
   ]
  },
  {
   "cell_type": "code",
   "execution_count": 2,
   "id": "d6add7ad",
   "metadata": {
    "execution": {
     "iopub.execute_input": "2023-01-11T15:43:42.894509Z",
     "iopub.status.busy": "2023-01-11T15:43:42.893622Z",
     "iopub.status.idle": "2023-01-11T15:43:42.962273Z",
     "shell.execute_reply": "2023-01-11T15:43:42.961114Z"
    },
    "papermill": {
     "duration": 0.084227,
     "end_time": "2023-01-11T15:43:42.965914",
     "exception": false,
     "start_time": "2023-01-11T15:43:42.881687",
     "status": "completed"
    },
    "tags": []
   },
   "outputs": [
    {
     "name": "stdout",
     "output_type": "stream",
     "text": [
      "Check for null values\n",
      "id          0\n",
      "group       0\n",
      "page        0\n",
      "time        0\n",
      "sub         0\n",
      "language    0\n",
      "dtype: int64 \n",
      "\n",
      "All user id's are unique \n",
      "\n",
      "Check for repeat categories\n",
      "['control', 'treatment']\n",
      "Categories (2, object): ['control', 'treatment']\n",
      "['old', 'new']\n",
      "Categories (2, object): ['new', 'old']\n",
      "['Spanish', 'English', 'French']\n",
      "Categories (3, object): ['English', 'French', 'Spanish'] \n",
      "\n",
      "There are no bad data entries \n",
      "\n",
      "<class 'pandas.core.frame.DataFrame'>\n",
      "RangeIndex: 100 entries, 0 to 99\n",
      "Data columns (total 7 columns):\n",
      " #   Column    Non-Null Count  Dtype   \n",
      "---  ------    --------------  -----   \n",
      " 0   id        100 non-null    int64   \n",
      " 1   group     100 non-null    category\n",
      " 2   page      100 non-null    category\n",
      " 3   time      100 non-null    float64 \n",
      " 4   sub       100 non-null    category\n",
      " 5   language  100 non-null    category\n",
      " 6   sub_bool  100 non-null    bool    \n",
      "dtypes: bool(1), category(4), float64(1), int64(1)\n",
      "memory usage: 2.7 KB\n"
     ]
    }
   ],
   "source": [
    "\"\"\"Import data, format dataframe, check for null values, and check for incorrect\n",
    "entries within the data\"\"\"\n",
    "# Import data into a dataframe\n",
    "raw_abdata = pd.read_csv('/kaggle/input/test-analysis/abtest.csv')\n",
    "raw_df = raw_abdata.copy()\n",
    "\n",
    "\n",
    "# adjust column titles for easier use\n",
    "name_map = {\"user_id\":\"id\", \"landing_page\":\"page\",\n",
    "           \"time_spent_on_the_page\":\"time\", \"converted\":\"sub\",\n",
    "           \"language_preferred\":\"language\"}\n",
    "raw_df.rename(name_map, axis=1, inplace=True)\n",
    "\n",
    "\n",
    "# Check for any null values in the dataset\n",
    "print(\"Check for null values\")\n",
    "print(raw_df.isnull().sum(), '\\n')\n",
    "\n",
    "\n",
    "\n",
    "# Adjust column dtypes: group, page, language are all categorical. Change sub to boolean.\n",
    "ls = ['group', 'page', 'language'] \n",
    "for i in ls:\n",
    "    raw_df[i] = raw_df[i].astype('category')\n",
    "raw_df['sub_bool'] = raw_df['sub'].copy().map({\"yes\": True, \"no\":False})\n",
    "raw_df['sub_bool'] = raw_df['sub_bool'].astype('bool')\n",
    "raw_df['sub'] = raw_df['sub'].astype('category')\n",
    "\n",
    "\n",
    "\n",
    "# Check that id are unique identifiers\n",
    "if raw_df.id.value_counts().sum() == len(raw_df.id):\n",
    "    print(\"All user id's are unique\", '\\n')\n",
    "else:\n",
    "    print(\"A user id is repeated\")\n",
    "\n",
    "    \n",
    "# Check for repeated categories for group, page, and language\n",
    "print(\"Check for repeat categories\")\n",
    "print(raw_df.group.unique())\n",
    "print(raw_df.page.unique())\n",
    "print(raw_df.language.unique(), '\\n')\n",
    "\n",
    "\n",
    "\n",
    "# Check that all control users view the old page and all treatment view the new page\n",
    "r1, c1 = raw_df[(raw_df['group'] == \"control\") & (raw_df['page'] == \"new\")].shape\n",
    "r2, c2 = raw_df[(raw_df['group'] == \"treatment\") & (raw_df['page'] == \"old\")].shape\n",
    "if r1 != 0 or r2 !=0:\n",
    "    print(\"\"\"There are bad data entries. Control or treatment individuals \n",
    "    are noted to have view the wrong page\"\"\")\n",
    "else:\n",
    "    print(\"\"\"There are no bad data entries\"\"\", \"\\n\")\n",
    "    \n",
    "    \n",
    "    \n",
    "# set to new dataframe\n",
    "df = raw_df\n",
    "df.info()\n"
   ]
  },
  {
   "cell_type": "markdown",
   "id": "37c86955",
   "metadata": {
    "papermill": {
     "duration": 0.010731,
     "end_time": "2023-01-11T15:43:42.988196",
     "exception": false,
     "start_time": "2023-01-11T15:43:42.977465",
     "status": "completed"
    },
    "tags": []
   },
   "source": [
    "For ease of use several column names have been changed:\n",
    "\n",
    "*  *user_id* is now ***id***\n",
    "*  *landing_page* is now ***page***\n",
    "*  *time_spent_on_page* is now ***time***\n",
    "*  *converted* is now ***sub***\n",
    "*  *language_preferred* is now ***language***"
   ]
  },
  {
   "cell_type": "markdown",
   "id": "04c0f2fd",
   "metadata": {
    "papermill": {
     "duration": 0.014115,
     "end_time": "2023-01-11T15:43:43.014298",
     "exception": false,
     "start_time": "2023-01-11T15:43:43.000183",
     "status": "completed"
    },
    "tags": []
   },
   "source": [
    "# Data Exploration"
   ]
  },
  {
   "cell_type": "code",
   "execution_count": 3,
   "id": "3f5a01aa",
   "metadata": {
    "execution": {
     "iopub.execute_input": "2023-01-11T15:43:43.045296Z",
     "iopub.status.busy": "2023-01-11T15:43:43.044860Z",
     "iopub.status.idle": "2023-01-11T15:43:43.081983Z",
     "shell.execute_reply": "2023-01-11T15:43:43.080763Z"
    },
    "papermill": {
     "duration": 0.057143,
     "end_time": "2023-01-11T15:43:43.084627",
     "exception": false,
     "start_time": "2023-01-11T15:43:43.027484",
     "status": "completed"
    },
    "tags": []
   },
   "outputs": [
    {
     "data": {
      "text/html": [
       "<div>\n",
       "<style scoped>\n",
       "    .dataframe tbody tr th:only-of-type {\n",
       "        vertical-align: middle;\n",
       "    }\n",
       "\n",
       "    .dataframe tbody tr th {\n",
       "        vertical-align: top;\n",
       "    }\n",
       "\n",
       "    .dataframe thead th {\n",
       "        text-align: right;\n",
       "    }\n",
       "</style>\n",
       "<table border=\"1\" class=\"dataframe\">\n",
       "  <thead>\n",
       "    <tr style=\"text-align: right;\">\n",
       "      <th></th>\n",
       "      <th>id</th>\n",
       "      <th>group</th>\n",
       "      <th>page</th>\n",
       "      <th>time</th>\n",
       "      <th>sub</th>\n",
       "      <th>language</th>\n",
       "      <th>sub_bool</th>\n",
       "    </tr>\n",
       "  </thead>\n",
       "  <tbody>\n",
       "    <tr>\n",
       "      <th>count</th>\n",
       "      <td>100.000000</td>\n",
       "      <td>100</td>\n",
       "      <td>100</td>\n",
       "      <td>100.000000</td>\n",
       "      <td>100</td>\n",
       "      <td>100</td>\n",
       "      <td>100</td>\n",
       "    </tr>\n",
       "    <tr>\n",
       "      <th>unique</th>\n",
       "      <td>NaN</td>\n",
       "      <td>2</td>\n",
       "      <td>2</td>\n",
       "      <td>NaN</td>\n",
       "      <td>2</td>\n",
       "      <td>3</td>\n",
       "      <td>2</td>\n",
       "    </tr>\n",
       "    <tr>\n",
       "      <th>top</th>\n",
       "      <td>NaN</td>\n",
       "      <td>control</td>\n",
       "      <td>new</td>\n",
       "      <td>NaN</td>\n",
       "      <td>yes</td>\n",
       "      <td>French</td>\n",
       "      <td>True</td>\n",
       "    </tr>\n",
       "    <tr>\n",
       "      <th>freq</th>\n",
       "      <td>NaN</td>\n",
       "      <td>50</td>\n",
       "      <td>50</td>\n",
       "      <td>NaN</td>\n",
       "      <td>54</td>\n",
       "      <td>34</td>\n",
       "      <td>54</td>\n",
       "    </tr>\n",
       "    <tr>\n",
       "      <th>mean</th>\n",
       "      <td>546517.000000</td>\n",
       "      <td>NaN</td>\n",
       "      <td>NaN</td>\n",
       "      <td>5.377800</td>\n",
       "      <td>NaN</td>\n",
       "      <td>NaN</td>\n",
       "      <td>NaN</td>\n",
       "    </tr>\n",
       "    <tr>\n",
       "      <th>std</th>\n",
       "      <td>52.295779</td>\n",
       "      <td>NaN</td>\n",
       "      <td>NaN</td>\n",
       "      <td>2.378166</td>\n",
       "      <td>NaN</td>\n",
       "      <td>NaN</td>\n",
       "      <td>NaN</td>\n",
       "    </tr>\n",
       "    <tr>\n",
       "      <th>min</th>\n",
       "      <td>546443.000000</td>\n",
       "      <td>NaN</td>\n",
       "      <td>NaN</td>\n",
       "      <td>0.190000</td>\n",
       "      <td>NaN</td>\n",
       "      <td>NaN</td>\n",
       "      <td>NaN</td>\n",
       "    </tr>\n",
       "    <tr>\n",
       "      <th>25%</th>\n",
       "      <td>546467.750000</td>\n",
       "      <td>NaN</td>\n",
       "      <td>NaN</td>\n",
       "      <td>3.880000</td>\n",
       "      <td>NaN</td>\n",
       "      <td>NaN</td>\n",
       "      <td>NaN</td>\n",
       "    </tr>\n",
       "    <tr>\n",
       "      <th>50%</th>\n",
       "      <td>546492.500000</td>\n",
       "      <td>NaN</td>\n",
       "      <td>NaN</td>\n",
       "      <td>5.415000</td>\n",
       "      <td>NaN</td>\n",
       "      <td>NaN</td>\n",
       "      <td>NaN</td>\n",
       "    </tr>\n",
       "    <tr>\n",
       "      <th>75%</th>\n",
       "      <td>546567.250000</td>\n",
       "      <td>NaN</td>\n",
       "      <td>NaN</td>\n",
       "      <td>7.022500</td>\n",
       "      <td>NaN</td>\n",
       "      <td>NaN</td>\n",
       "      <td>NaN</td>\n",
       "    </tr>\n",
       "    <tr>\n",
       "      <th>max</th>\n",
       "      <td>546592.000000</td>\n",
       "      <td>NaN</td>\n",
       "      <td>NaN</td>\n",
       "      <td>10.710000</td>\n",
       "      <td>NaN</td>\n",
       "      <td>NaN</td>\n",
       "      <td>NaN</td>\n",
       "    </tr>\n",
       "  </tbody>\n",
       "</table>\n",
       "</div>"
      ],
      "text/plain": [
       "                   id    group page        time  sub language sub_bool\n",
       "count      100.000000      100  100  100.000000  100      100      100\n",
       "unique            NaN        2    2         NaN    2        3        2\n",
       "top               NaN  control  new         NaN  yes   French     True\n",
       "freq              NaN       50   50         NaN   54       34       54\n",
       "mean    546517.000000      NaN  NaN    5.377800  NaN      NaN      NaN\n",
       "std         52.295779      NaN  NaN    2.378166  NaN      NaN      NaN\n",
       "min     546443.000000      NaN  NaN    0.190000  NaN      NaN      NaN\n",
       "25%     546467.750000      NaN  NaN    3.880000  NaN      NaN      NaN\n",
       "50%     546492.500000      NaN  NaN    5.415000  NaN      NaN      NaN\n",
       "75%     546567.250000      NaN  NaN    7.022500  NaN      NaN      NaN\n",
       "max     546592.000000      NaN  NaN   10.710000  NaN      NaN      NaN"
      ]
     },
     "execution_count": 3,
     "metadata": {},
     "output_type": "execute_result"
    }
   ],
   "source": [
    "# Examine generalized descriptive statistics for dataset\n",
    "df.describe(include='all')"
   ]
  },
  {
   "cell_type": "code",
   "execution_count": 4,
   "id": "d9726667",
   "metadata": {
    "execution": {
     "iopub.execute_input": "2023-01-11T15:43:43.111192Z",
     "iopub.status.busy": "2023-01-11T15:43:43.110416Z",
     "iopub.status.idle": "2023-01-11T15:43:43.140894Z",
     "shell.execute_reply": "2023-01-11T15:43:43.139947Z"
    },
    "papermill": {
     "duration": 0.04637,
     "end_time": "2023-01-11T15:43:43.143272",
     "exception": false,
     "start_time": "2023-01-11T15:43:43.096902",
     "status": "completed"
    },
    "tags": []
   },
   "outputs": [
    {
     "data": {
      "text/html": [
       "<div>\n",
       "<style scoped>\n",
       "    .dataframe tbody tr th:only-of-type {\n",
       "        vertical-align: middle;\n",
       "    }\n",
       "\n",
       "    .dataframe tbody tr th {\n",
       "        vertical-align: top;\n",
       "    }\n",
       "\n",
       "    .dataframe thead th {\n",
       "        text-align: right;\n",
       "    }\n",
       "</style>\n",
       "<table border=\"1\" class=\"dataframe\">\n",
       "  <thead>\n",
       "    <tr style=\"text-align: right;\">\n",
       "      <th></th>\n",
       "      <th>id</th>\n",
       "      <th>group</th>\n",
       "      <th>page</th>\n",
       "      <th>time</th>\n",
       "      <th>sub</th>\n",
       "      <th>language</th>\n",
       "      <th>sub_bool</th>\n",
       "    </tr>\n",
       "  </thead>\n",
       "  <tbody>\n",
       "    <tr>\n",
       "      <th>count</th>\n",
       "      <td>50.00000</td>\n",
       "      <td>50</td>\n",
       "      <td>50</td>\n",
       "      <td>50.000000</td>\n",
       "      <td>50</td>\n",
       "      <td>50</td>\n",
       "      <td>50</td>\n",
       "    </tr>\n",
       "    <tr>\n",
       "      <th>unique</th>\n",
       "      <td>NaN</td>\n",
       "      <td>1</td>\n",
       "      <td>1</td>\n",
       "      <td>NaN</td>\n",
       "      <td>2</td>\n",
       "      <td>3</td>\n",
       "      <td>2</td>\n",
       "    </tr>\n",
       "    <tr>\n",
       "      <th>top</th>\n",
       "      <td>NaN</td>\n",
       "      <td>control</td>\n",
       "      <td>old</td>\n",
       "      <td>NaN</td>\n",
       "      <td>no</td>\n",
       "      <td>French</td>\n",
       "      <td>False</td>\n",
       "    </tr>\n",
       "    <tr>\n",
       "      <th>freq</th>\n",
       "      <td>NaN</td>\n",
       "      <td>50</td>\n",
       "      <td>50</td>\n",
       "      <td>NaN</td>\n",
       "      <td>29</td>\n",
       "      <td>17</td>\n",
       "      <td>29</td>\n",
       "    </tr>\n",
       "    <tr>\n",
       "      <th>mean</th>\n",
       "      <td>546566.50000</td>\n",
       "      <td>NaN</td>\n",
       "      <td>NaN</td>\n",
       "      <td>4.532400</td>\n",
       "      <td>NaN</td>\n",
       "      <td>NaN</td>\n",
       "      <td>NaN</td>\n",
       "    </tr>\n",
       "    <tr>\n",
       "      <th>std</th>\n",
       "      <td>17.67767</td>\n",
       "      <td>NaN</td>\n",
       "      <td>NaN</td>\n",
       "      <td>2.581975</td>\n",
       "      <td>NaN</td>\n",
       "      <td>NaN</td>\n",
       "      <td>NaN</td>\n",
       "    </tr>\n",
       "    <tr>\n",
       "      <th>min</th>\n",
       "      <td>546493.00000</td>\n",
       "      <td>NaN</td>\n",
       "      <td>NaN</td>\n",
       "      <td>0.190000</td>\n",
       "      <td>NaN</td>\n",
       "      <td>NaN</td>\n",
       "      <td>NaN</td>\n",
       "    </tr>\n",
       "    <tr>\n",
       "      <th>25%</th>\n",
       "      <td>546555.25000</td>\n",
       "      <td>NaN</td>\n",
       "      <td>NaN</td>\n",
       "      <td>2.720000</td>\n",
       "      <td>NaN</td>\n",
       "      <td>NaN</td>\n",
       "      <td>NaN</td>\n",
       "    </tr>\n",
       "    <tr>\n",
       "      <th>50%</th>\n",
       "      <td>546567.50000</td>\n",
       "      <td>NaN</td>\n",
       "      <td>NaN</td>\n",
       "      <td>4.380000</td>\n",
       "      <td>NaN</td>\n",
       "      <td>NaN</td>\n",
       "      <td>NaN</td>\n",
       "    </tr>\n",
       "    <tr>\n",
       "      <th>75%</th>\n",
       "      <td>546579.75000</td>\n",
       "      <td>NaN</td>\n",
       "      <td>NaN</td>\n",
       "      <td>6.442500</td>\n",
       "      <td>NaN</td>\n",
       "      <td>NaN</td>\n",
       "      <td>NaN</td>\n",
       "    </tr>\n",
       "    <tr>\n",
       "      <th>max</th>\n",
       "      <td>546592.00000</td>\n",
       "      <td>NaN</td>\n",
       "      <td>NaN</td>\n",
       "      <td>10.300000</td>\n",
       "      <td>NaN</td>\n",
       "      <td>NaN</td>\n",
       "      <td>NaN</td>\n",
       "    </tr>\n",
       "  </tbody>\n",
       "</table>\n",
       "</div>"
      ],
      "text/plain": [
       "                  id    group page       time  sub language sub_bool\n",
       "count       50.00000       50   50  50.000000   50       50       50\n",
       "unique           NaN        1    1        NaN    2        3        2\n",
       "top              NaN  control  old        NaN   no   French    False\n",
       "freq             NaN       50   50        NaN   29       17       29\n",
       "mean    546566.50000      NaN  NaN   4.532400  NaN      NaN      NaN\n",
       "std         17.67767      NaN  NaN   2.581975  NaN      NaN      NaN\n",
       "min     546493.00000      NaN  NaN   0.190000  NaN      NaN      NaN\n",
       "25%     546555.25000      NaN  NaN   2.720000  NaN      NaN      NaN\n",
       "50%     546567.50000      NaN  NaN   4.380000  NaN      NaN      NaN\n",
       "75%     546579.75000      NaN  NaN   6.442500  NaN      NaN      NaN\n",
       "max     546592.00000      NaN  NaN  10.300000  NaN      NaN      NaN"
      ]
     },
     "execution_count": 4,
     "metadata": {},
     "output_type": "execute_result"
    }
   ],
   "source": [
    "# Examine generalized descriptive statistics for control group\n",
    "df[df['group'] == 'control'].describe(include='all')"
   ]
  },
  {
   "cell_type": "code",
   "execution_count": 5,
   "id": "dbefbf6e",
   "metadata": {
    "execution": {
     "iopub.execute_input": "2023-01-11T15:43:43.168885Z",
     "iopub.status.busy": "2023-01-11T15:43:43.167699Z",
     "iopub.status.idle": "2023-01-11T15:43:43.196678Z",
     "shell.execute_reply": "2023-01-11T15:43:43.195490Z"
    },
    "papermill": {
     "duration": 0.044735,
     "end_time": "2023-01-11T15:43:43.199379",
     "exception": false,
     "start_time": "2023-01-11T15:43:43.154644",
     "status": "completed"
    },
    "tags": []
   },
   "outputs": [
    {
     "data": {
      "text/html": [
       "<div>\n",
       "<style scoped>\n",
       "    .dataframe tbody tr th:only-of-type {\n",
       "        vertical-align: middle;\n",
       "    }\n",
       "\n",
       "    .dataframe tbody tr th {\n",
       "        vertical-align: top;\n",
       "    }\n",
       "\n",
       "    .dataframe thead th {\n",
       "        text-align: right;\n",
       "    }\n",
       "</style>\n",
       "<table border=\"1\" class=\"dataframe\">\n",
       "  <thead>\n",
       "    <tr style=\"text-align: right;\">\n",
       "      <th></th>\n",
       "      <th>id</th>\n",
       "      <th>group</th>\n",
       "      <th>page</th>\n",
       "      <th>time</th>\n",
       "      <th>sub</th>\n",
       "      <th>language</th>\n",
       "      <th>sub_bool</th>\n",
       "    </tr>\n",
       "  </thead>\n",
       "  <tbody>\n",
       "    <tr>\n",
       "      <th>count</th>\n",
       "      <td>50.00000</td>\n",
       "      <td>50</td>\n",
       "      <td>50</td>\n",
       "      <td>50.000000</td>\n",
       "      <td>50</td>\n",
       "      <td>50</td>\n",
       "      <td>50</td>\n",
       "    </tr>\n",
       "    <tr>\n",
       "      <th>unique</th>\n",
       "      <td>NaN</td>\n",
       "      <td>1</td>\n",
       "      <td>1</td>\n",
       "      <td>NaN</td>\n",
       "      <td>2</td>\n",
       "      <td>3</td>\n",
       "      <td>2</td>\n",
       "    </tr>\n",
       "    <tr>\n",
       "      <th>top</th>\n",
       "      <td>NaN</td>\n",
       "      <td>treatment</td>\n",
       "      <td>new</td>\n",
       "      <td>NaN</td>\n",
       "      <td>yes</td>\n",
       "      <td>French</td>\n",
       "      <td>True</td>\n",
       "    </tr>\n",
       "    <tr>\n",
       "      <th>freq</th>\n",
       "      <td>NaN</td>\n",
       "      <td>50</td>\n",
       "      <td>50</td>\n",
       "      <td>NaN</td>\n",
       "      <td>33</td>\n",
       "      <td>17</td>\n",
       "      <td>33</td>\n",
       "    </tr>\n",
       "    <tr>\n",
       "      <th>mean</th>\n",
       "      <td>546467.50000</td>\n",
       "      <td>NaN</td>\n",
       "      <td>NaN</td>\n",
       "      <td>6.223200</td>\n",
       "      <td>NaN</td>\n",
       "      <td>NaN</td>\n",
       "      <td>NaN</td>\n",
       "    </tr>\n",
       "    <tr>\n",
       "      <th>std</th>\n",
       "      <td>14.57738</td>\n",
       "      <td>NaN</td>\n",
       "      <td>NaN</td>\n",
       "      <td>1.817031</td>\n",
       "      <td>NaN</td>\n",
       "      <td>NaN</td>\n",
       "      <td>NaN</td>\n",
       "    </tr>\n",
       "    <tr>\n",
       "      <th>min</th>\n",
       "      <td>546443.00000</td>\n",
       "      <td>NaN</td>\n",
       "      <td>NaN</td>\n",
       "      <td>1.650000</td>\n",
       "      <td>NaN</td>\n",
       "      <td>NaN</td>\n",
       "      <td>NaN</td>\n",
       "    </tr>\n",
       "    <tr>\n",
       "      <th>25%</th>\n",
       "      <td>546455.25000</td>\n",
       "      <td>NaN</td>\n",
       "      <td>NaN</td>\n",
       "      <td>5.175000</td>\n",
       "      <td>NaN</td>\n",
       "      <td>NaN</td>\n",
       "      <td>NaN</td>\n",
       "    </tr>\n",
       "    <tr>\n",
       "      <th>50%</th>\n",
       "      <td>546467.50000</td>\n",
       "      <td>NaN</td>\n",
       "      <td>NaN</td>\n",
       "      <td>6.105000</td>\n",
       "      <td>NaN</td>\n",
       "      <td>NaN</td>\n",
       "      <td>NaN</td>\n",
       "    </tr>\n",
       "    <tr>\n",
       "      <th>75%</th>\n",
       "      <td>546479.75000</td>\n",
       "      <td>NaN</td>\n",
       "      <td>NaN</td>\n",
       "      <td>7.160000</td>\n",
       "      <td>NaN</td>\n",
       "      <td>NaN</td>\n",
       "      <td>NaN</td>\n",
       "    </tr>\n",
       "    <tr>\n",
       "      <th>max</th>\n",
       "      <td>546492.00000</td>\n",
       "      <td>NaN</td>\n",
       "      <td>NaN</td>\n",
       "      <td>10.710000</td>\n",
       "      <td>NaN</td>\n",
       "      <td>NaN</td>\n",
       "      <td>NaN</td>\n",
       "    </tr>\n",
       "  </tbody>\n",
       "</table>\n",
       "</div>"
      ],
      "text/plain": [
       "                  id      group page       time  sub language sub_bool\n",
       "count       50.00000         50   50  50.000000   50       50       50\n",
       "unique           NaN          1    1        NaN    2        3        2\n",
       "top              NaN  treatment  new        NaN  yes   French     True\n",
       "freq             NaN         50   50        NaN   33       17       33\n",
       "mean    546467.50000        NaN  NaN   6.223200  NaN      NaN      NaN\n",
       "std         14.57738        NaN  NaN   1.817031  NaN      NaN      NaN\n",
       "min     546443.00000        NaN  NaN   1.650000  NaN      NaN      NaN\n",
       "25%     546455.25000        NaN  NaN   5.175000  NaN      NaN      NaN\n",
       "50%     546467.50000        NaN  NaN   6.105000  NaN      NaN      NaN\n",
       "75%     546479.75000        NaN  NaN   7.160000  NaN      NaN      NaN\n",
       "max     546492.00000        NaN  NaN  10.710000  NaN      NaN      NaN"
      ]
     },
     "execution_count": 5,
     "metadata": {},
     "output_type": "execute_result"
    }
   ],
   "source": [
    "# Examine generalized descriptive statistics for treatment group\n",
    "df[df['group'] == 'treatment'].describe(include='all')\n"
   ]
  },
  {
   "cell_type": "markdown",
   "id": "aea10e9f",
   "metadata": {
    "execution": {
     "iopub.execute_input": "2023-01-05T06:29:28.202392Z",
     "iopub.status.busy": "2023-01-05T06:29:28.201900Z",
     "iopub.status.idle": "2023-01-05T06:29:28.210577Z",
     "shell.execute_reply": "2023-01-05T06:29:28.209370Z",
     "shell.execute_reply.started": "2023-01-05T06:29:28.202356Z"
    },
    "papermill": {
     "duration": 0.01113,
     "end_time": "2023-01-11T15:43:43.222115",
     "exception": false,
     "start_time": "2023-01-11T15:43:43.210985",
     "status": "completed"
    },
    "tags": []
   },
   "source": [
    "When data is split into treatment groups most features are the same between the two, suggesting strong regulatory control on the A/B testing process. However, there are a few notable differences:\n",
    "\n",
    "On average, those in the ***control*** group may have spent less time on the page than those in the ***treatment*** group.\n",
    "More individuals subscribed in the *treatment* group than in the *control* group."
   ]
  },
  {
   "cell_type": "code",
   "execution_count": 6,
   "id": "8344a5fd",
   "metadata": {
    "execution": {
     "iopub.execute_input": "2023-01-11T15:43:43.246915Z",
     "iopub.status.busy": "2023-01-11T15:43:43.246532Z",
     "iopub.status.idle": "2023-01-11T15:43:43.397509Z",
     "shell.execute_reply": "2023-01-11T15:43:43.396301Z"
    },
    "papermill": {
     "duration": 0.166338,
     "end_time": "2023-01-11T15:43:43.400183",
     "exception": false,
     "start_time": "2023-01-11T15:43:43.233845",
     "status": "completed"
    },
    "tags": []
   },
   "outputs": [
    {
     "data": {
      "text/plain": [
       "<AxesSubplot:xlabel='time'>"
      ]
     },
     "execution_count": 6,
     "metadata": {},
     "output_type": "execute_result"
    },
    {
     "data": {
      "image/png": "[encoded data removed]",
      "text/plain": [
       "<Figure size 432x288 with 1 Axes>"
      ]
     },
     "metadata": {
      "needs_background": "light"
     },
     "output_type": "display_data"
    }
   ],
   "source": [
    "# Assess posibilities of outliers for time, the one quantitiative variable\n",
    "sns.boxplot(data=df, x='time')"
   ]
  },
  {
   "cell_type": "code",
   "execution_count": 7,
   "id": "916274fe",
   "metadata": {
    "execution": {
     "iopub.execute_input": "2023-01-11T15:43:43.426324Z",
     "iopub.status.busy": "2023-01-11T15:43:43.425134Z",
     "iopub.status.idle": "2023-01-11T15:43:43.670721Z",
     "shell.execute_reply": "2023-01-11T15:43:43.669697Z"
    },
    "papermill": {
     "duration": 0.261014,
     "end_time": "2023-01-11T15:43:43.673038",
     "exception": false,
     "start_time": "2023-01-11T15:43:43.412024",
     "status": "completed"
    },
    "tags": []
   },
   "outputs": [
    {
     "name": "stdout",
     "output_type": "stream",
     "text": [
      "Time likely is a normal distribution (p > 0.05). Null hypothesis not rejected.\n"
     ]
    },
    {
     "data": {
      "image/png": "[encoded data removed]",
      "text/plain": [
       "<Figure size 432x288 with 1 Axes>"
      ]
     },
     "metadata": {
      "needs_background": "light"
     },
     "output_type": "display_data"
    }
   ],
   "source": [
    "# Assess distribution of time variable and whether the disrtibution is normal\n",
    "sns.histplot(data=df, x='time', kde=True)\n",
    "\n",
    "k2, p = stats.normaltest(df.time) # normality test based on 2-sided chi squared analysis\n",
    "alpha = 0.05\n",
    "if p < alpha:\n",
    "    print(\"Time is likely not a normal distribution (p < 0.05). Null hypothesis rejected.\")\n",
    "else:\n",
    "    print(\"Time likely is a normal distribution (p > 0.05). Null hypothesis not rejected.\")"
   ]
  },
  {
   "cell_type": "markdown",
   "id": "9a5b6209",
   "metadata": {
    "papermill": {
     "duration": 0.011804,
     "end_time": "2023-01-11T15:43:43.696962",
     "exception": false,
     "start_time": "2023-01-11T15:43:43.685158",
     "status": "completed"
    },
    "tags": []
   },
   "source": [
    "\n",
    "# Categorical Analyses\n",
    "* What proportion of each treatment group subscribed?\n",
    "* Are the languages used distributed equally between the groups?\n",
    "* Might language influence how many users subscribe?"
   ]
  },
  {
   "cell_type": "code",
   "execution_count": 8,
   "id": "cf1b9f4f",
   "metadata": {
    "execution": {
     "iopub.execute_input": "2023-01-11T15:43:43.723537Z",
     "iopub.status.busy": "2023-01-11T15:43:43.722755Z",
     "iopub.status.idle": "2023-01-11T15:43:43.730050Z",
     "shell.execute_reply": "2023-01-11T15:43:43.729278Z"
    },
    "papermill": {
     "duration": 0.02346,
     "end_time": "2023-01-11T15:43:43.732538",
     "exception": false,
     "start_time": "2023-01-11T15:43:43.709078",
     "status": "completed"
    },
    "tags": []
   },
   "outputs": [],
   "source": [
    "def bar_perc(plot, feature, h=0.33, w=0.08):\n",
    "    '''\n",
    "    plot\n",
    "    feature: 1-d categorical feature array\n",
    "    '''\n",
    "    total = len(feature) # length of the column\n",
    "    for p in ax.patches:\n",
    "        percentage = '{:.0f}%'.format(100 * p.get_height()/total) # percentage of each class of the category\n",
    "        x = p.get_x() + p.get_width() / 2 - w # width of the plot\n",
    "        y = p.get_y() + p.get_height() + h         # height of the plot\n",
    "        ax.annotate(percentage, (x, y), size = 12) # annotate the percantage"
   ]
  },
  {
   "cell_type": "code",
   "execution_count": 9,
   "id": "8847c271",
   "metadata": {
    "execution": {
     "iopub.execute_input": "2023-01-11T15:43:43.759034Z",
     "iopub.status.busy": "2023-01-11T15:43:43.758211Z",
     "iopub.status.idle": "2023-01-11T15:43:44.008086Z",
     "shell.execute_reply": "2023-01-11T15:43:44.007261Z"
    },
    "papermill": {
     "duration": 0.266195,
     "end_time": "2023-01-11T15:43:44.010742",
     "exception": false,
     "start_time": "2023-01-11T15:43:43.744547",
     "status": "completed"
    },
    "tags": []
   },
   "outputs": [
    {
     "data": {
      "text/plain": [
       "Text(0, 0.5, 'Number of users')"
      ]
     },
     "execution_count": 9,
     "metadata": {},
     "output_type": "execute_result"
    },
    {
     "data": {
      "image/png": "[encoded data removed]",
      "text/plain": [
       "<Figure size 432x288 with 1 Axes>"
      ]
     },
     "metadata": {
      "needs_background": "light"
     },
     "output_type": "display_data"
    }
   ],
   "source": [
    "# What proportion of each treatment group subscribed?\n",
    "ax = sns.countplot(data=df, x='group', hue='sub')\n",
    "bar_perc(ax, df.time)\n",
    "plt.legend(bbox_to_anchor=(1.0,1), loc='upper left', borderaxespad=0, labels=[\"No Subscription\", \"Subscribed\"])\n",
    "plt.title('How many users subscribed by treatment', fontdict={'fontsize':16})\n",
    "plt.xlabel('Group')\n",
    "plt.xticks(np.arange(0,2), labels=[\"Control\", \"Treatment\"])\n",
    "plt.ylabel('Number of users')"
   ]
  },
  {
   "cell_type": "markdown",
   "id": "9968d1eb",
   "metadata": {
    "papermill": {
     "duration": 0.01224,
     "end_time": "2023-01-11T15:43:44.035758",
     "exception": false,
     "start_time": "2023-01-11T15:43:44.023518",
     "status": "completed"
    },
    "tags": []
   },
   "source": [
    "Notes:\n",
    "More users subscribe under the *new page* than the *old page. 33% of the whole dataset subscribed from the treatment group, which means 66% did so within the treatment group. 21% of the whole dataset subscribed from the control group, which means 42% did so within the control group*.\n",
    "\n",
    "These percentages within the treatment groups are above and below 50% correspondingly which is suggestive a a difference, however this will need to be tested statistically."
   ]
  },
  {
   "cell_type": "code",
   "execution_count": 10,
   "id": "cb9611da",
   "metadata": {
    "execution": {
     "iopub.execute_input": "2023-01-11T15:43:44.063494Z",
     "iopub.status.busy": "2023-01-11T15:43:44.062830Z",
     "iopub.status.idle": "2023-01-11T15:43:44.330617Z",
     "shell.execute_reply": "2023-01-11T15:43:44.329455Z"
    },
    "papermill": {
     "duration": 0.284204,
     "end_time": "2023-01-11T15:43:44.332904",
     "exception": false,
     "start_time": "2023-01-11T15:43:44.048700",
     "status": "completed"
    },
    "tags": []
   },
   "outputs": [
    {
     "data": {
      "text/plain": [
       "Text(0, 0.5, 'Number of users')"
      ]
     },
     "execution_count": 10,
     "metadata": {},
     "output_type": "execute_result"
    },
    {
     "data": {
      "image/png": "[encoded data removed]",
      "text/plain": [
       "<Figure size 432x288 with 1 Axes>"
      ]
     },
     "metadata": {
      "needs_background": "light"
     },
     "output_type": "display_data"
    }
   ],
   "source": [
    "# Are the languages used distributed equally between the groups?\n",
    "ax = sns.countplot(data=df, x='language', hue='group')\n",
    "bar_perc(ax, df.language, h=0.25, w=0.12)\n",
    "plt.legend(bbox_to_anchor=(1.0,1), loc='upper left', borderaxespad=0, labels=[\"Control\", \"Treatment\"])\n",
    "plt.title('Language used based on treatment group', fontdict={'fontsize':16})\n",
    "plt.xlabel('Language')\n",
    "plt.ylabel('Number of users')"
   ]
  },
  {
   "cell_type": "markdown",
   "id": "f464aedd",
   "metadata": {
    "papermill": {
     "duration": 0.012651,
     "end_time": "2023-01-11T15:43:44.358394",
     "exception": false,
     "start_time": "2023-01-11T15:43:44.345743",
     "status": "completed"
    },
    "tags": []
   },
   "source": [
    "Langage is equal across control groups. Therefore, what langauge used is cannot be a bias between the treatment groups.\n",
    "The percentage of language used is nearly equal across the types of language. Therefore, it is unlikely any trends observed due to langauge are an artifact of more or fewer individuals within that treatment group using that langauge."
   ]
  },
  {
   "cell_type": "code",
   "execution_count": 11,
   "id": "e760ed02",
   "metadata": {
    "execution": {
     "iopub.execute_input": "2023-01-11T15:43:44.386153Z",
     "iopub.status.busy": "2023-01-11T15:43:44.385520Z",
     "iopub.status.idle": "2023-01-11T15:43:44.657773Z",
     "shell.execute_reply": "2023-01-11T15:43:44.656539Z"
    },
    "papermill": {
     "duration": 0.289192,
     "end_time": "2023-01-11T15:43:44.660335",
     "exception": false,
     "start_time": "2023-01-11T15:43:44.371143",
     "status": "completed"
    },
    "tags": []
   },
   "outputs": [
    {
     "data": {
      "text/plain": [
       "Text(0, 0.5, 'Number of users')"
      ]
     },
     "execution_count": 11,
     "metadata": {},
     "output_type": "execute_result"
    },
    {
     "data": {
      "image/png": "[encoded data removed]",
      "text/plain": [
       "<Figure size 432x288 with 1 Axes>"
      ]
     },
     "metadata": {
      "needs_background": "light"
     },
     "output_type": "display_data"
    }
   ],
   "source": [
    "# Might language influence how many users subscribe?\n",
    "ax = sns.countplot(data=df, x='language', hue='sub')\n",
    "bar_perc(ax, df.language, h=0.2, w=0.12)\n",
    "plt.legend(bbox_to_anchor=(1.0,1), loc='upper left', borderaxespad=0, labels=[\"No Subscription\", \"Subscribed\"])\n",
    "plt.title('Languages used and if the user subscribed', fontdict={'fontsize':16})\n",
    "plt.xlabel('Language')\n",
    "plt.ylabel('Number of users')"
   ]
  },
  {
   "cell_type": "markdown",
   "id": "575faa1d",
   "metadata": {
    "papermill": {
     "duration": 0.013295,
     "end_time": "2023-01-11T15:43:44.687279",
     "exception": false,
     "start_time": "2023-01-11T15:43:44.673984",
     "status": "completed"
    },
    "tags": []
   },
   "source": [
    "English language users were the *more likely to subscribe than any other langauge*.\n",
    "French language users were the *least likely to subscribe*.\n",
    "It's unclear at this point if langauge influences subscription rates. The all appear relatively similar, with perhaps the exception of the English language users who may have a significantly higher subscription rate."
   ]
  },
  {
   "cell_type": "markdown",
   "id": "9a8a2496",
   "metadata": {
    "papermill": {
     "duration": 0.01325,
     "end_time": "2023-01-11T15:43:44.714163",
     "exception": false,
     "start_time": "2023-01-11T15:43:44.700913",
     "status": "completed"
    },
    "tags": []
   },
   "source": [
    "Quantitative Analyses:\n",
    "Does time users spend on the page appear to change based on treatment group?\n",
    "Does time users spend on the page appear to influence if they subscribe?\n",
    "Does time users spend on the page appear to change based on the language they view the page in?"
   ]
  },
  {
   "cell_type": "code",
   "execution_count": 12,
   "id": "23ded817",
   "metadata": {
    "execution": {
     "iopub.execute_input": "2023-01-11T15:43:44.744560Z",
     "iopub.status.busy": "2023-01-11T15:43:44.743364Z",
     "iopub.status.idle": "2023-01-11T15:43:45.023029Z",
     "shell.execute_reply": "2023-01-11T15:43:45.022171Z"
    },
    "papermill": {
     "duration": 0.296947,
     "end_time": "2023-01-11T15:43:45.025130",
     "exception": false,
     "start_time": "2023-01-11T15:43:44.728183",
     "status": "completed"
    },
    "tags": []
   },
   "outputs": [
    {
     "data": {
      "text/plain": [
       "(0.0, 14.701975470371943)"
      ]
     },
     "execution_count": 12,
     "metadata": {},
     "output_type": "execute_result"
    },
    {
     "data": {
      "image/png": "[encoded data removed]",
      "text/plain": [
       "<Figure size 432x288 with 1 Axes>"
      ]
     },
     "metadata": {
      "needs_background": "light"
     },
     "output_type": "display_data"
    }
   ],
   "source": [
    "# Does time users spend on the page appear to change based on treatment group?\n",
    "sns.kdeplot(data=df, x='time', hue='group', shade=True)\n",
    "plt.xlim(0)"
   ]
  },
  {
   "cell_type": "code",
   "execution_count": 13,
   "id": "f4cbd5c8",
   "metadata": {
    "execution": {
     "iopub.execute_input": "2023-01-11T15:43:45.056166Z",
     "iopub.status.busy": "2023-01-11T15:43:45.055163Z",
     "iopub.status.idle": "2023-01-11T15:43:45.067544Z",
     "shell.execute_reply": "2023-01-11T15:43:45.066197Z"
    },
    "papermill": {
     "duration": 0.031139,
     "end_time": "2023-01-11T15:43:45.070741",
     "exception": false,
     "start_time": "2023-01-11T15:43:45.039602",
     "status": "completed"
    },
    "tags": []
   },
   "outputs": [
    {
     "name": "stdout",
     "output_type": "stream",
     "text": [
      "T-stat = 3.7867702694199856 \n",
      " p-value = 0.0001316123528095005\n"
     ]
    }
   ],
   "source": [
    "# T-test of two independent samples to examine if time is different between control and treatment groups\n",
    "T, p = stats.ttest_ind(df[df['group'] == 'treatment'].time, \n",
    "                df[df['group'] == 'control'].time,\n",
    "                alternative='greater')\n",
    "print(\"T-stat =\", T, '\\n', \"p-value =\", p)"
   ]
  },
  {
   "cell_type": "markdown",
   "id": "cb334e3e",
   "metadata": {
    "papermill": {
     "duration": 0.014162,
     "end_time": "2023-01-11T15:43:45.100029",
     "exception": false,
     "start_time": "2023-01-11T15:43:45.085867",
     "status": "completed"
    },
    "tags": []
   },
   "source": [
    "Notes:\n",
    "As seen from the descriptive stats, the new page (treatment) does increase the amount of time users spend on the page. A T-test demonstrates we can be confident that this increase in time based on treatment is significant (p < 0.05)."
   ]
  },
  {
   "cell_type": "code",
   "execution_count": 14,
   "id": "ae9c21ef",
   "metadata": {
    "execution": {
     "iopub.execute_input": "2023-01-11T15:43:45.130925Z",
     "iopub.status.busy": "2023-01-11T15:43:45.129898Z",
     "iopub.status.idle": "2023-01-11T15:43:45.403907Z",
     "shell.execute_reply": "2023-01-11T15:43:45.403098Z"
    },
    "papermill": {
     "duration": 0.291629,
     "end_time": "2023-01-11T15:43:45.405970",
     "exception": false,
     "start_time": "2023-01-11T15:43:45.114341",
     "status": "completed"
    },
    "tags": []
   },
   "outputs": [
    {
     "data": {
      "text/plain": [
       "(0.0, 13.814742305418273)"
      ]
     },
     "execution_count": 14,
     "metadata": {},
     "output_type": "execute_result"
    },
    {
     "data": {
      "image/png": "[encoded data removed]",
      "text/plain": [
       "<Figure size 432x288 with 1 Axes>"
      ]
     },
     "metadata": {
      "needs_background": "light"
     },
     "output_type": "display_data"
    }
   ],
   "source": [
    "# Does time users spend on the page appear to influence if they subscribe?\n",
    "sns.kdeplot(data=df, x='time', hue='sub', shade=True)\n",
    "plt.xlim(0)"
   ]
  },
  {
   "cell_type": "code",
   "execution_count": 15,
   "id": "d9085a1e",
   "metadata": {
    "execution": {
     "iopub.execute_input": "2023-01-11T15:43:45.437454Z",
     "iopub.status.busy": "2023-01-11T15:43:45.436776Z",
     "iopub.status.idle": "2023-01-11T15:43:45.445765Z",
     "shell.execute_reply": "2023-01-11T15:43:45.444484Z"
    },
    "papermill": {
     "duration": 0.027479,
     "end_time": "2023-01-11T15:43:45.448178",
     "exception": false,
     "start_time": "2023-01-11T15:43:45.420699",
     "status": "completed"
    },
    "tags": []
   },
   "outputs": [
    {
     "name": "stdout",
     "output_type": "stream",
     "text": [
      "T-stat = 6.871662040801039 \n",
      " p-value = 2.9536890937324255e-10\n"
     ]
    }
   ],
   "source": [
    "# T-test of two independent samples to examine if time is different between those who subscribe and those who don't\n",
    "T, p = stats.ttest_ind(df[df['sub'] == 'yes'].time, \n",
    "                df[df['sub'] == 'no'].time,\n",
    "                alternative='greater')\n",
    "print(\"T-stat =\", T, '\\n', \"p-value =\", p)"
   ]
  },
  {
   "cell_type": "markdown",
   "id": "7ccadc35",
   "metadata": {
    "papermill": {
     "duration": 0.014754,
     "end_time": "2023-01-11T15:43:45.477660",
     "exception": false,
     "start_time": "2023-01-11T15:43:45.462906",
     "status": "completed"
    },
    "tags": []
   },
   "source": [
    "Notes:\n",
    "As seen from the descriptive stats, the greater the amount of time users spend on the page the more likely they are to have subscribed. A T-test demonstrates we can be confident that this increase in time based on treatment is significant (p < 0.05)."
   ]
  },
  {
   "cell_type": "code",
   "execution_count": 16,
   "id": "e97750ad",
   "metadata": {
    "execution": {
     "iopub.execute_input": "2023-01-11T15:43:45.509282Z",
     "iopub.status.busy": "2023-01-11T15:43:45.508302Z",
     "iopub.status.idle": "2023-01-11T15:43:45.727470Z",
     "shell.execute_reply": "2023-01-11T15:43:45.726186Z"
    },
    "papermill": {
     "duration": 0.237591,
     "end_time": "2023-01-11T15:43:45.729988",
     "exception": false,
     "start_time": "2023-01-11T15:43:45.492397",
     "status": "completed"
    },
    "tags": []
   },
   "outputs": [
    {
     "data": {
      "text/plain": [
       "<AxesSubplot:xlabel='language', ylabel='time'>"
      ]
     },
     "execution_count": 16,
     "metadata": {},
     "output_type": "execute_result"
    },
    {
     "data": {
      "image/png": "[encoded data removed]",
      "text/plain": [
       "<Figure size 432x288 with 1 Axes>"
      ]
     },
     "metadata": {
      "needs_background": "light"
     },
     "output_type": "display_data"
    }
   ],
   "source": [
    "# Does time users spend on the page appear to change based on the language they view the page in?\n",
    "sns.boxplot(data=df, x='language', y='time')"
   ]
  },
  {
   "cell_type": "code",
   "execution_count": 17,
   "id": "00b8a6c6",
   "metadata": {
    "execution": {
     "iopub.execute_input": "2023-01-11T15:43:45.761978Z",
     "iopub.status.busy": "2023-01-11T15:43:45.761583Z",
     "iopub.status.idle": "2023-01-11T15:43:45.771848Z",
     "shell.execute_reply": "2023-01-11T15:43:45.770408Z"
    },
    "papermill": {
     "duration": 0.02909,
     "end_time": "2023-01-11T15:43:45.774097",
     "exception": false,
     "start_time": "2023-01-11T15:43:45.745007",
     "status": "completed"
    },
    "tags": []
   },
   "outputs": [
    {
     "name": "stdout",
     "output_type": "stream",
     "text": [
      "F-stat = 0.14343439221240437 \n",
      " p-value = 0.8665610536012648\n"
     ]
    }
   ],
   "source": [
    "# One-way ANOVA to examine if time is different if a user uses a different language\n",
    "F, p = stats.f_oneway(df[df['language'] == 'English'].time, \n",
    "                       df[df['language'] == 'French'].time,\n",
    "                       df[df['language'] == 'Spanish'].time)\n",
    "print(\"F-stat =\", F, '\\n', \"p-value =\", p)"
   ]
  },
  {
   "cell_type": "markdown",
   "id": "83a749e1",
   "metadata": {
    "papermill": {
     "duration": 0.015101,
     "end_time": "2023-01-11T15:43:45.804726",
     "exception": false,
     "start_time": "2023-01-11T15:43:45.789625",
     "status": "completed"
    },
    "tags": []
   },
   "source": [
    "*Language* does not appear tho change the amount of time users spend on the page. Anova demonstrates the distributions are not significantly from each other (p > 0.05).\n",
    "\n",
    "Conclusions based on data exploration\n",
    "Time is a normally distributed variable\n",
    "More users from the treatment group subscribed than from the control group\n",
    "Language is equally distibuted across the groups\n",
    "Language might influence how many users subscribe\n",
    "Users in the treatment group spend more time on the new page compared to users in the control group who view the old page\n",
    "Users who spend more time on the page (regardless of old or new) are more likely to subscribe\n",
    "The language with which a user views the page does not influnce the time that user spends on the page\n"
   ]
  },
  {
   "cell_type": "markdown",
   "id": "35e25336",
   "metadata": {
    "papermill": {
     "duration": 0.015442,
     "end_time": "2023-01-11T15:43:45.835556",
     "exception": false,
     "start_time": "2023-01-11T15:43:45.820114",
     "status": "completed"
    },
    "tags": []
   },
   "source": [
    "Analysis\n",
    "Questions:\n",
    "Do users spend more time on the new landing page than the old landing page?\n",
    "Is the conversion rate (proportion of users who visit the landing page and get converted) for the new page greater than the conversion rate for the old page?\n",
    "Does the converted status depend on the preferred language?\n",
    "Is the mean time spent on the new page same for different language users?"
   ]
  },
  {
   "cell_type": "markdown",
   "id": "33b5c61c",
   "metadata": {
    "papermill": {
     "duration": 0.014929,
     "end_time": "2023-01-11T15:43:45.865801",
     "exception": false,
     "start_time": "2023-01-11T15:43:45.850872",
     "status": "completed"
    },
    "tags": []
   },
   "source": []
  },
  {
   "cell_type": "markdown",
   "id": "540dc131",
   "metadata": {
    "papermill": {
     "duration": 0.015003,
     "end_time": "2023-01-11T15:43:45.896389",
     "exception": false,
     "start_time": "2023-01-11T15:43:45.881386",
     "status": "completed"
    },
    "tags": []
   },
   "source": [
    "\n",
    "Do users spend more time on the new landing page than the old landing page?\n",
    "Inadverdantly addressed this question in exploration by checking on the effects of treatment groups, which maps perfectly onto pages. However, this analysis will directly address this in a more formal analysis."
   ]
  },
  {
   "cell_type": "code",
   "execution_count": 18,
   "id": "b2953e01",
   "metadata": {
    "execution": {
     "iopub.execute_input": "2023-01-11T15:43:45.928709Z",
     "iopub.status.busy": "2023-01-11T15:43:45.928318Z",
     "iopub.status.idle": "2023-01-11T15:43:46.522771Z",
     "shell.execute_reply": "2023-01-11T15:43:46.521494Z"
    },
    "papermill": {
     "duration": 0.613844,
     "end_time": "2023-01-11T15:43:46.525395",
     "exception": false,
     "start_time": "2023-01-11T15:43:45.911551",
     "status": "completed"
    },
    "tags": []
   },
   "outputs": [
    {
     "name": "stdout",
     "output_type": "stream",
     "text": [
      "Users viewing the new page spent an average of 6.22 minutes on the page.\n",
      "Users viewing the old page spet an average of 4.53 minutes on the page.\n"
     ]
    },
    {
     "data": {
      "image/png": "[encoded data removed]",
      "text/plain": [
       "<Figure size 432x288 with 1 Axes>"
      ]
     },
     "metadata": {
      "needs_background": "light"
     },
     "output_type": "display_data"
    }
   ],
   "source": [
    "# Split dataframe into old and new page viewers\n",
    "new = df[df['page'] == 'new']\n",
    "old = df[df['page'] == 'old']\n",
    "\n",
    "# Find average of time spent on each page\n",
    "print(\"Users viewing the new page spent an average of\", round(new['time'].mean(), 2), \"minutes on the page.\")\n",
    "print(\"Users viewing the old page spet an average of\", round(old['time'].mean(), 2), \"minutes on the page.\")\n",
    "\n",
    "# Plot the kernal density plots for the distribution\n",
    "sns.kdeplot(data=df, x='time', hue='page', shade=True)\n",
    "plt.xlim(0)\n",
    "plt.title(\"Time spent on landing page\", fontdict={'fontsize':16})\n",
    "plt.xlabel('Time (minutes)')\n",
    "plt.ylabel('Frequency')\n",
    "plt.legend(labels=[\"Old page\", \"New page\"])\n",
    "plt.savefig('Figures\\TimeSpentonLandingPage.jpeg', dpi=300, bbox_inches='tight')"
   ]
  },
  {
   "cell_type": "markdown",
   "id": "1f62e81f",
   "metadata": {
    "papermill": {
     "duration": 0.015241,
     "end_time": "2023-01-11T15:43:46.556354",
     "exception": false,
     "start_time": "2023-01-11T15:43:46.541113",
     "status": "completed"
    },
    "tags": []
   },
   "source": [
    "\n",
    "The analysis needs to address whether the distribution of time users view the new page is significantly different than the time users view the old page. Therefore, the hypotheses for the final test are:\n",
    "\n",
    ": \n",
    "\n",
    ": \n",
    "\n",
    "As this dataset is a 100 member sample, split evenly into new and old page treatments, we do not know the standard deviation of whole population - all of E-new Express Customer Base. Hence, a T-test of two independent samples will be used to account for the lack of information on the populations standard deviation and the independence of the individuals participating in each 50 member treatment."
   ]
  },
  {
   "cell_type": "code",
   "execution_count": 19,
   "id": "a9c66d27",
   "metadata": {
    "execution": {
     "iopub.execute_input": "2023-01-11T15:43:46.589754Z",
     "iopub.status.busy": "2023-01-11T15:43:46.588948Z",
     "iopub.status.idle": "2023-01-11T15:43:46.598791Z",
     "shell.execute_reply": "2023-01-11T15:43:46.597488Z"
    },
    "papermill": {
     "duration": 0.029179,
     "end_time": "2023-01-11T15:43:46.601086",
     "exception": false,
     "start_time": "2023-01-11T15:43:46.571907",
     "status": "completed"
    },
    "tags": []
   },
   "outputs": [
    {
     "name": "stdout",
     "output_type": "stream",
     "text": [
      "T-stat = 3.787 \n",
      " p-value =  0.0001\n"
     ]
    }
   ],
   "source": [
    "# T-test for independent samples to assess if the difference spent on the pages is significantly different\n",
    "T, p = stats.ttest_ind(df[df['page'] == 'new'].time, \n",
    "                df[df['page'] == 'old'].time,\n",
    "                alternative='greater')\n",
    "print(\"T-stat =\", round(T, 3), '\\n', \"p-value = \", round(p, 4))"
   ]
  },
  {
   "cell_type": "markdown",
   "id": "71bef13b",
   "metadata": {
    "papermill": {
     "duration": 0.015393,
     "end_time": "2023-01-11T15:43:46.632027",
     "exception": false,
     "start_time": "2023-01-11T15:43:46.616634",
     "status": "completed"
    },
    "tags": []
   },
   "source": [
    "The null hypothesis is rejected (p < 0.05). Therefore, we can be 95% confident that on average the new landing page is viewed by users for longer than the old landing page."
   ]
  },
  {
   "cell_type": "markdown",
   "id": "122f32d5",
   "metadata": {
    "papermill": {
     "duration": 0.015311,
     "end_time": "2023-01-11T15:43:46.662942",
     "exception": false,
     "start_time": "2023-01-11T15:43:46.647631",
     "status": "completed"
    },
    "tags": []
   },
   "source": [
    "Does the converted status depend on the preferred language?\n",
    "This question is unclear as to whether it is in regards to the whole sample (both new and old landing pages) or just one. Therefore, I will test all scenarios.\n",
    "\n",
    "Converted status vs language for users viewing either landing page\n",
    "\n",
    "Ho  : The rate of conversion does not vary based on the language in which the page is viewed\n",
    "\n",
    "Ha: The rate of conversion does vary based on the language in which the page is viewed"
   ]
  },
  {
   "cell_type": "code",
   "execution_count": 20,
   "id": "945e6dda",
   "metadata": {
    "execution": {
     "iopub.execute_input": "2023-01-11T15:43:46.696008Z",
     "iopub.status.busy": "2023-01-11T15:43:46.695629Z",
     "iopub.status.idle": "2023-01-11T15:43:46.725146Z",
     "shell.execute_reply": "2023-01-11T15:43:46.724040Z"
    },
    "papermill": {
     "duration": 0.048938,
     "end_time": "2023-01-11T15:43:46.727510",
     "exception": false,
     "start_time": "2023-01-11T15:43:46.678572",
     "status": "completed"
    },
    "tags": []
   },
   "outputs": [
    {
     "data": {
      "text/html": [
       "<div>\n",
       "<style scoped>\n",
       "    .dataframe tbody tr th:only-of-type {\n",
       "        vertical-align: middle;\n",
       "    }\n",
       "\n",
       "    .dataframe tbody tr th {\n",
       "        vertical-align: top;\n",
       "    }\n",
       "\n",
       "    .dataframe thead th {\n",
       "        text-align: right;\n",
       "    }\n",
       "</style>\n",
       "<table border=\"1\" class=\"dataframe\">\n",
       "  <thead>\n",
       "    <tr style=\"text-align: right;\">\n",
       "      <th>language</th>\n",
       "      <th>English</th>\n",
       "      <th>French</th>\n",
       "      <th>Spanish</th>\n",
       "    </tr>\n",
       "    <tr>\n",
       "      <th>sub_bool</th>\n",
       "      <th></th>\n",
       "      <th></th>\n",
       "      <th></th>\n",
       "    </tr>\n",
       "  </thead>\n",
       "  <tbody>\n",
       "    <tr>\n",
       "      <th>False</th>\n",
       "      <td>11</td>\n",
       "      <td>19</td>\n",
       "      <td>16</td>\n",
       "    </tr>\n",
       "    <tr>\n",
       "      <th>True</th>\n",
       "      <td>21</td>\n",
       "      <td>15</td>\n",
       "      <td>18</td>\n",
       "    </tr>\n",
       "  </tbody>\n",
       "</table>\n",
       "</div>"
      ],
      "text/plain": [
       "language  English  French  Spanish\n",
       "sub_bool                          \n",
       "False          11      19       16\n",
       "True           21      15       18"
      ]
     },
     "execution_count": 20,
     "metadata": {},
     "output_type": "execute_result"
    }
   ],
   "source": [
    "# Crosstab of language and whether or not a user subscribed based on complete sample\n",
    "pd.crosstab(df.sub_bool, df.language)"
   ]
  },
  {
   "cell_type": "code",
   "execution_count": 21,
   "id": "d2051022",
   "metadata": {
    "execution": {
     "iopub.execute_input": "2023-01-11T15:43:46.761113Z",
     "iopub.status.busy": "2023-01-11T15:43:46.760713Z",
     "iopub.status.idle": "2023-01-11T15:43:46.780686Z",
     "shell.execute_reply": "2023-01-11T15:43:46.779432Z"
    },
    "papermill": {
     "duration": 0.03961,
     "end_time": "2023-01-11T15:43:46.783161",
     "exception": false,
     "start_time": "2023-01-11T15:43:46.743551",
     "status": "completed"
    },
    "tags": []
   },
   "outputs": [
    {
     "name": "stdout",
     "output_type": "stream",
     "text": [
      "Chi-squared =  3.093 \n",
      " p-value =  0.213 \n",
      " degrees of freedom = 2\n"
     ]
    }
   ],
   "source": [
    "# Chi-square test for indepenence of the variables on a contingency table for complete sample\n",
    "obs = pd.crosstab(df.sub_bool, df.language)\n",
    "chi2, p, dof, expected = stats.chi2_contingency(obs, correction=False) # Yates' correction False due to df > 1\n",
    "print(\"Chi-squared = \", round(chi2, 3), \"\\n\", \"p-value = \", round(p, 3), \"\\n\", \"degrees of freedom =\", dof)"
   ]
  },
  {
   "cell_type": "markdown",
   "id": "f562aed8",
   "metadata": {
    "papermill": {
     "duration": 0.015468,
     "end_time": "2023-01-11T15:43:46.814406",
     "exception": false,
     "start_time": "2023-01-11T15:43:46.798938",
     "status": "completed"
    },
    "tags": []
   },
   "source": [
    "The null hypothesis cannot be rejected (p > 0.05). Therefore, we can be 95% confident that, for the whole 100 user sample, the conversion rate does not significantly change based on the language the landing page is viewed in."
   ]
  },
  {
   "cell_type": "markdown",
   "id": "32373258",
   "metadata": {
    "papermill": {
     "duration": 0.015383,
     "end_time": "2023-01-11T15:43:46.845462",
     "exception": false,
     "start_time": "2023-01-11T15:43:46.830079",
     "status": "completed"
    },
    "tags": []
   },
   "source": [
    "Converted status vs language for users viewing the new landing page\n",
    "\n",
    "\n",
    "Ho  : The rate of conversion does not vary based on the language in which the page is viewed\n",
    "\n",
    "Ha: The rate of conversion does vary based on the language in which the page is viewed"
   ]
  },
  {
   "cell_type": "code",
   "execution_count": 22,
   "id": "44978857",
   "metadata": {
    "execution": {
     "iopub.execute_input": "2023-01-11T15:43:46.879167Z",
     "iopub.status.busy": "2023-01-11T15:43:46.878119Z",
     "iopub.status.idle": "2023-01-11T15:43:46.900994Z",
     "shell.execute_reply": "2023-01-11T15:43:46.899816Z"
    },
    "papermill": {
     "duration": 0.042124,
     "end_time": "2023-01-11T15:43:46.903272",
     "exception": false,
     "start_time": "2023-01-11T15:43:46.861148",
     "status": "completed"
    },
    "tags": []
   },
   "outputs": [
    {
     "data": {
      "text/html": [
       "<div>\n",
       "<style scoped>\n",
       "    .dataframe tbody tr th:only-of-type {\n",
       "        vertical-align: middle;\n",
       "    }\n",
       "\n",
       "    .dataframe tbody tr th {\n",
       "        vertical-align: top;\n",
       "    }\n",
       "\n",
       "    .dataframe thead th {\n",
       "        text-align: right;\n",
       "    }\n",
       "</style>\n",
       "<table border=\"1\" class=\"dataframe\">\n",
       "  <thead>\n",
       "    <tr style=\"text-align: right;\">\n",
       "      <th>language</th>\n",
       "      <th>English</th>\n",
       "      <th>French</th>\n",
       "      <th>Spanish</th>\n",
       "    </tr>\n",
       "    <tr>\n",
       "      <th>sub_bool</th>\n",
       "      <th></th>\n",
       "      <th></th>\n",
       "      <th></th>\n",
       "    </tr>\n",
       "  </thead>\n",
       "  <tbody>\n",
       "    <tr>\n",
       "      <th>False</th>\n",
       "      <td>5</td>\n",
       "      <td>14</td>\n",
       "      <td>10</td>\n",
       "    </tr>\n",
       "    <tr>\n",
       "      <th>True</th>\n",
       "      <td>11</td>\n",
       "      <td>3</td>\n",
       "      <td>7</td>\n",
       "    </tr>\n",
       "  </tbody>\n",
       "</table>\n",
       "</div>"
      ],
      "text/plain": [
       "language  English  French  Spanish\n",
       "sub_bool                          \n",
       "False           5      14       10\n",
       "True           11       3        7"
      ]
     },
     "execution_count": 22,
     "metadata": {},
     "output_type": "execute_result"
    }
   ],
   "source": [
    "# Crosstab of language and whether or not a user subscribed based on old page\n",
    "pd.crosstab(old.sub_bool, old.language)"
   ]
  },
  {
   "cell_type": "markdown",
   "id": "2713028b",
   "metadata": {
    "papermill": {
     "duration": 0.015765,
     "end_time": "2023-01-11T15:43:46.935130",
     "exception": false,
     "start_time": "2023-01-11T15:43:46.919365",
     "status": "completed"
    },
    "tags": []
   },
   "source": []
  },
  {
   "cell_type": "code",
   "execution_count": 23,
   "id": "b87db78f",
   "metadata": {
    "execution": {
     "iopub.execute_input": "2023-01-11T15:43:46.969163Z",
     "iopub.status.busy": "2023-01-11T15:43:46.968388Z",
     "iopub.status.idle": "2023-01-11T15:43:46.989649Z",
     "shell.execute_reply": "2023-01-11T15:43:46.988205Z"
    },
    "papermill": {
     "duration": 0.04131,
     "end_time": "2023-01-11T15:43:46.992349",
     "exception": false,
     "start_time": "2023-01-11T15:43:46.951039",
     "status": "completed"
    },
    "tags": []
   },
   "outputs": [
    {
     "name": "stdout",
     "output_type": "stream",
     "text": [
      "Chi-squared =  8.843 \n",
      " p-value =  0.012 \n",
      " degrees of freedom = 2\n"
     ]
    }
   ],
   "source": [
    "# Chi-square test for indepenence of the variables on whether or not a user subscribed based on old page\n",
    "obs = pd.crosstab(old.sub_bool, old.language)\n",
    "chi2, p, dof, expected = stats.chi2_contingency(obs, correction=False) # Yates' correction False due to df > 1\n",
    "print(\"Chi-squared = \", round(chi2, 3), \"\\n\", \"p-value = \", round(p, 3), \"\\n\", \"degrees of freedom =\", dof)"
   ]
  },
  {
   "cell_type": "markdown",
   "id": "2969c28b",
   "metadata": {
    "papermill": {
     "duration": 0.015598,
     "end_time": "2023-01-11T15:43:47.024106",
     "exception": false,
     "start_time": "2023-01-11T15:43:47.008508",
     "status": "completed"
    },
    "tags": []
   },
   "source": [
    "The null hypothesis can be rejected (p > 0.05). Therefore, we can be 95% confident that, for the 50 user sample who viewed the old landing page, the conversion rate does significantly change based on the language the landing page is viewed in."
   ]
  },
  {
   "cell_type": "markdown",
   "id": "40a70002",
   "metadata": {
    "papermill": {
     "duration": 0.015806,
     "end_time": "2023-01-11T15:43:47.055803",
     "exception": false,
     "start_time": "2023-01-11T15:43:47.039997",
     "status": "completed"
    },
    "tags": []
   },
   "source": [
    "\n",
    "Is the mean time spent on the new page same for different language users?"
   ]
  },
  {
   "cell_type": "code",
   "execution_count": 24,
   "id": "4f5f4c03",
   "metadata": {
    "execution": {
     "iopub.execute_input": "2023-01-11T15:43:47.089621Z",
     "iopub.status.busy": "2023-01-11T15:43:47.089145Z",
     "iopub.status.idle": "2023-01-11T15:43:47.362816Z",
     "shell.execute_reply": "2023-01-11T15:43:47.362067Z"
    },
    "papermill": {
     "duration": 0.293096,
     "end_time": "2023-01-11T15:43:47.364875",
     "exception": false,
     "start_time": "2023-01-11T15:43:47.071779",
     "status": "completed"
    },
    "tags": []
   },
   "outputs": [
    {
     "data": {
      "text/plain": [
       "Text(0, 0.5, 'Time (minutes)')"
      ]
     },
     "execution_count": 24,
     "metadata": {},
     "output_type": "execute_result"
    },
    {
     "data": {
      "image/png": "[encoded data removed]",
      "text/plain": [
       "<Figure size 432x288 with 1 Axes>"
      ]
     },
     "metadata": {
      "needs_background": "light"
     },
     "output_type": "display_data"
    }
   ],
   "source": [
    "# Violin plot to examine the distribution of time spent on the new landing page for each language\n",
    "sns_cmap = sns.color_palette('muted').as_hex()\n",
    "lang_cmap = sns_cmap[2:5]\n",
    "sns.violinplot(x=new['language'], y=new['time'], palette=lang_cmap)\n",
    "plt.title('Time on new landing page by language', fontdict={'fontsize':16})\n",
    "plt.xlabel('Language')\n",
    "plt.ylabel('Time (minutes)')\n"
   ]
  },
  {
   "cell_type": "markdown",
   "id": "5afbd492",
   "metadata": {
    "papermill": {
     "duration": 0.01607,
     "end_time": "2023-01-11T15:43:47.397444",
     "exception": false,
     "start_time": "2023-01-11T15:43:47.381374",
     "status": "completed"
    },
    "tags": []
   },
   "source": [
    "This analysis will require an ANOVA test of variance to see if the means of the time spent on the new landing page by each group of language speakers are the same or different."
   ]
  },
  {
   "cell_type": "markdown",
   "id": "aa21733f",
   "metadata": {
    "papermill": {
     "duration": 0.01598,
     "end_time": "2023-01-11T15:43:47.429757",
     "exception": false,
     "start_time": "2023-01-11T15:43:47.413777",
     "status": "completed"
    },
    "tags": []
   },
   "source": [
    "Ho : x1 = x2 = x3\n",
    "Ha : Means are not equal\n",
    "\n",
    "As shown in the data exploration, time is a normal distribution. Therefore an ANOVA will be an accurate test to compare the means of time on the new page based on language."
   ]
  },
  {
   "cell_type": "code",
   "execution_count": 25,
   "id": "b16a7098",
   "metadata": {
    "execution": {
     "iopub.execute_input": "2023-01-11T15:43:47.464298Z",
     "iopub.status.busy": "2023-01-11T15:43:47.463844Z",
     "iopub.status.idle": "2023-01-11T15:43:47.475160Z",
     "shell.execute_reply": "2023-01-11T15:43:47.473476Z"
    },
    "papermill": {
     "duration": 0.0318,
     "end_time": "2023-01-11T15:43:47.477808",
     "exception": false,
     "start_time": "2023-01-11T15:43:47.446008",
     "status": "completed"
    },
    "tags": []
   },
   "outputs": [
    {
     "name": "stdout",
     "output_type": "stream",
     "text": [
      "F-stat= 0.854 \n",
      " p-value =  0.432\n"
     ]
    }
   ],
   "source": [
    "# One-way ANOVA to examine if time on the new page is different if a user uses a different language\n",
    "F, p = stats.f_oneway(new[new['language'] == 'English'].time, \n",
    "                       new[new['language'] == 'French'].time,\n",
    "                       new[new['language'] == 'Spanish'].time)\n",
    "print(\"F-stat=\", round(F, 3), '\\n', \"p-value = \", round(p, 3))"
   ]
  },
  {
   "cell_type": "markdown",
   "id": "e2108c2b",
   "metadata": {
    "papermill": {
     "duration": 0.016485,
     "end_time": "2023-01-11T15:43:47.511593",
     "exception": false,
     "start_time": "2023-01-11T15:43:47.495108",
     "status": "completed"
    },
    "tags": []
   },
   "source": [
    "The null hypothesis cannot be rejected (p > 0.05). Therefore, we can be 95% confident that the time spent on the new page does not change based on the language with which the page is being viewed."
   ]
  },
  {
   "cell_type": "markdown",
   "id": "5dc92413",
   "metadata": {
    "papermill": {
     "duration": 0.016172,
     "end_time": "2023-01-11T15:43:47.544514",
     "exception": false,
     "start_time": "2023-01-11T15:43:47.528342",
     "status": "completed"
    },
    "tags": []
   },
   "source": [
    "Conclusions\n",
    "Questions:\n",
    "1. Do users spend more time on the new landing page than the old landing page?\n",
    "Users do spend more time on the new landing page than the old landing page.\n",
    "\n",
    "2. Is the conversion rate (proportion of users who visit the landing page and get converted) for the new page greater than the conversion rate for the old page?\n",
    "Yes, the conversion rate for the new page is greater than for the old page.\n",
    "\n",
    "3. Does the converted status depend on the preferred language?\n",
    "Converted status only changes based on language for the old landing page. There is no significant differenence in conversion rates based on language for users viewing the new page or for the sample of all 100 users.\n",
    "\n",
    "4. Is the mean time spent on the new page same for different language users?\n",
    "No, the time spent on the new page does not vary based on the language used to view the page."
   ]
  },
  {
   "cell_type": "markdown",
   "id": "7a99ac18",
   "metadata": {
    "papermill": {
     "duration": 0.016035,
     "end_time": "2023-01-11T15:43:47.576978",
     "exception": false,
     "start_time": "2023-01-11T15:43:47.560943",
     "status": "completed"
    },
    "tags": []
   },
   "source": []
  }
 ],
 "metadata": {
  "kernelspec": {
   "display_name": "Python 3",
   "language": "python",
   "name": "python3"
  },
  "language_info": {
   "codemirror_mode": {
    "name": "ipython",
    "version": 3
   },
   "file_extension": ".py",
   "mimetype": "text/x-python",
   "name": "python",
   "nbconvert_exporter": "python",
   "pygments_lexer": "ipython3",
   "version": "3.7.12"
  },
  "papermill": {
   "default_parameters": {},
   "duration": 15.311772,
   "end_time": "2023-01-11T15:43:48.314295",
   "environment_variables": {},
   "exception": null,
   "input_path": "__notebook__.ipynb",
   "output_path": "__notebook__.ipynb",
   "parameters": {},
   "start_time": "2023-01-11T15:43:33.002523",
   "version": "2.3.4"
  }
 },
 "nbformat": 4,
 "nbformat_minor": 5
}
